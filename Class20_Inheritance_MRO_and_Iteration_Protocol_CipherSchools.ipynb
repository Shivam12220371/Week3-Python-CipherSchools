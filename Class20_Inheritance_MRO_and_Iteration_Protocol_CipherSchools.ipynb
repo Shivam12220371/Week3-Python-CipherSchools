{
  "nbformat": 4,
  "nbformat_minor": 0,
  "metadata": {
    "colab": {
      "provenance": [],
      "authorship_tag": "ABX9TyOpsKSXkHi77RDdUvRODXim",
      "include_colab_link": true
    },
    "kernelspec": {
      "name": "python3",
      "display_name": "Python 3"
    },
    "language_info": {
      "name": "python"
    }
  },
  "cells": [
    {
      "cell_type": "markdown",
      "metadata": {
        "id": "view-in-github",
        "colab_type": "text"
      },
      "source": [
        "<a href=\"https://colab.research.google.com/github/Shivam12220371/Week3-Python-CipherSchools/blob/main/Class20_Inheritance_MRO_and_Iteration_Protocol_CipherSchools.ipynb\" target=\"_parent\"><img src=\"https://colab.research.google.com/assets/colab-badge.svg\" alt=\"Open In Colab\"/></a>"
      ]
    },
    {
      "cell_type": "code",
      "execution_count": 19,
      "metadata": {
        "id": "oWQUnRTJSjbf"
      },
      "outputs": [],
      "source": [
        "# inheritance"
      ]
    },
    {
      "cell_type": "code",
      "source": [
        "class A:\n",
        "    def __init__(self):\n",
        "        print(\"A init executed\")\n",
        "\n",
        "class B(A):\n",
        "    def __init__(self):\n",
        "        super().__init__()\n",
        "        print(\"B init executed\")"
      ],
      "metadata": {
        "id": "_8GMnEZVS49s"
      },
      "execution_count": 20,
      "outputs": []
    },
    {
      "cell_type": "code",
      "source": [
        "abc = B()"
      ],
      "metadata": {
        "colab": {
          "base_uri": "https://localhost:8080/"
        },
        "id": "0X4WTch7S76p",
        "outputId": "f1673c62-187d-4aed-db45-f0ab8fef7fec"
      },
      "execution_count": 21,
      "outputs": [
        {
          "output_type": "stream",
          "name": "stdout",
          "text": [
            "A init executed\n",
            "B init executed\n"
          ]
        }
      ]
    },
    {
      "cell_type": "code",
      "source": [
        "# MRO (Method Resolution Order)"
      ],
      "metadata": {
        "id": "YWtYLamnS_5m"
      },
      "execution_count": 22,
      "outputs": []
    },
    {
      "cell_type": "code",
      "source": [
        "class A:\n",
        "    pass\n",
        "\n",
        "class B(A):\n",
        "    x = 5\n",
        "\n",
        "class C(B):\n",
        "    pass\n",
        "\n",
        "class D(A):\n",
        "    x = 10\n",
        "\n",
        "class E(C, D):\n",
        "    pass"
      ],
      "metadata": {
        "id": "HjEcuWhbTCL2"
      },
      "execution_count": 23,
      "outputs": []
    },
    {
      "cell_type": "code",
      "source": [
        "e = E()"
      ],
      "metadata": {
        "id": "CgVoBny_TFZ8"
      },
      "execution_count": 24,
      "outputs": []
    },
    {
      "cell_type": "code",
      "source": [
        "print(e.x)\n"
      ],
      "metadata": {
        "colab": {
          "base_uri": "https://localhost:8080/"
        },
        "id": "dgfVkX_ATHru",
        "outputId": "9f6d559b-8203-4125-eedb-3a9f6a1c7e7b"
      },
      "execution_count": 25,
      "outputs": [
        {
          "output_type": "stream",
          "name": "stdout",
          "text": [
            "5\n"
          ]
        }
      ]
    },
    {
      "cell_type": "code",
      "source": [
        "# DFS\n",
        "# if there is a loop solve branches differently"
      ],
      "metadata": {
        "id": "pqgpQ0EBTMFl"
      },
      "execution_count": 26,
      "outputs": []
    },
    {
      "cell_type": "code",
      "source": [
        "# Iteration Protocol\n",
        "\n",
        "# For any object to be an Iterable, it should have 2 dunders\n",
        "# 1. __iter__\n",
        "# 2. __next__\n",
        "\n",
        "# Protocol\n",
        "# Object's __iter__ method Should return an iterator\n",
        "# iterator __next__ method should return the new value on every cell\n",
        "# if the iterator reaches the end, it should raise an StopIteration exception"
      ],
      "metadata": {
        "id": "FJvHFVePTO6o"
      },
      "execution_count": 27,
      "outputs": []
    },
    {
      "cell_type": "code",
      "source": [
        "a = range(5)"
      ],
      "metadata": {
        "id": "QBSsxe86TR5m"
      },
      "execution_count": 28,
      "outputs": []
    },
    {
      "cell_type": "code",
      "source": [
        "# it = a.__iter__()\n",
        "it = iter(a)"
      ],
      "metadata": {
        "id": "rJLO60CqTUCr"
      },
      "execution_count": 29,
      "outputs": []
    },
    {
      "cell_type": "code",
      "source": [
        "it"
      ],
      "metadata": {
        "colab": {
          "base_uri": "https://localhost:8080/"
        },
        "id": "zMF9iRXlTWDi",
        "outputId": "cea1225a-b745-4358-8aae-eadad4c0aadb"
      },
      "execution_count": 30,
      "outputs": [
        {
          "output_type": "execute_result",
          "data": {
            "text/plain": [
              "<range_iterator at 0x7f9f4b819960>"
            ]
          },
          "metadata": {},
          "execution_count": 30
        }
      ]
    },
    {
      "cell_type": "code",
      "source": [
        "# it.__next__()\n",
        "next(it)"
      ],
      "metadata": {
        "colab": {
          "base_uri": "https://localhost:8080/"
        },
        "id": "D1m3FtS8TYGs",
        "outputId": "47b69a52-b3ef-4930-df7a-31fd69fe5668"
      },
      "execution_count": 31,
      "outputs": [
        {
          "output_type": "execute_result",
          "data": {
            "text/plain": [
              "0"
            ]
          },
          "metadata": {},
          "execution_count": 31
        }
      ]
    },
    {
      "cell_type": "code",
      "source": [
        "a = 'jatin'"
      ],
      "metadata": {
        "id": "griY7x8zTa8V"
      },
      "execution_count": 32,
      "outputs": []
    },
    {
      "cell_type": "code",
      "source": [
        "iter(a)"
      ],
      "metadata": {
        "colab": {
          "base_uri": "https://localhost:8080/"
        },
        "id": "qp83AwkxTczt",
        "outputId": "d1b25076-061f-4a5e-9dfc-bf2ad8336b94"
      },
      "execution_count": 33,
      "outputs": [
        {
          "output_type": "execute_result",
          "data": {
            "text/plain": [
              "<str_iterator at 0x7f9f4b819e80>"
            ]
          },
          "metadata": {},
          "execution_count": 33
        }
      ]
    },
    {
      "cell_type": "code",
      "source": [
        "for i in range(5):\n",
        "    print(i)"
      ],
      "metadata": {
        "colab": {
          "base_uri": "https://localhost:8080/"
        },
        "id": "5jprp6_xTf0f",
        "outputId": "9474b260-507e-4d57-8640-83d0481fff64"
      },
      "execution_count": 34,
      "outputs": [
        {
          "output_type": "stream",
          "name": "stdout",
          "text": [
            "0\n",
            "1\n",
            "2\n",
            "3\n",
            "4\n"
          ]
        }
      ]
    },
    {
      "cell_type": "code",
      "source": [
        "class myrange:\n",
        "    def __init__(self, n):\n",
        "        self.n = n\n",
        "\n",
        "    def __iter__(self):\n",
        "        return myrange_iterator(self)\n",
        "\n",
        "class myrange_iterator:\n",
        "    def __init__(self, myrange):\n",
        "        self.myrange = myrange\n",
        "        self.i = 0\n",
        "\n",
        "    def __next__(self):\n",
        "        ret = self.i\n",
        "        self.i += 1\n",
        "\n",
        "        if ret >= self.myrange.n:\n",
        "            raise StopIteration\n",
        "\n",
        "\n",
        "        return ret\n",
        "In [182]:"
      ],
      "metadata": {
        "colab": {
          "base_uri": "https://localhost:8080/",
          "height": 130
        },
        "id": "lcHK2yGoTh3_",
        "outputId": "6b2986ef-36f2-4fa7-8d5b-25b127eed0fb"
      },
      "execution_count": 35,
      "outputs": [
        {
          "output_type": "error",
          "ename": "SyntaxError",
          "evalue": "ignored",
          "traceback": [
            "\u001b[0;36m  File \u001b[0;32m\"<ipython-input-35-96780a036751>\"\u001b[0;36m, line \u001b[0;32m22\u001b[0m\n\u001b[0;31m    In [182]:\u001b[0m\n\u001b[0m             ^\u001b[0m\n\u001b[0;31mSyntaxError\u001b[0m\u001b[0;31m:\u001b[0m invalid syntax\n"
          ]
        }
      ]
    },
    {
      "cell_type": "code",
      "source": [
        "a = myrange(5)"
      ],
      "metadata": {
        "id": "oE57sjuWUDzE",
        "colab": {
          "base_uri": "https://localhost:8080/",
          "height": 165
        },
        "outputId": "cf6285c9-0e1d-4cf2-ae60-12061bd2bafd"
      },
      "execution_count": 36,
      "outputs": [
        {
          "output_type": "error",
          "ename": "NameError",
          "evalue": "ignored",
          "traceback": [
            "\u001b[0;31m---------------------------------------------------------------------------\u001b[0m",
            "\u001b[0;31mNameError\u001b[0m                                 Traceback (most recent call last)",
            "\u001b[0;32m<ipython-input-36-44d9b4d99fe9>\u001b[0m in \u001b[0;36m<module>\u001b[0;34m\u001b[0m\n\u001b[0;32m----> 1\u001b[0;31m \u001b[0ma\u001b[0m \u001b[0;34m=\u001b[0m \u001b[0mmyrange\u001b[0m\u001b[0;34m(\u001b[0m\u001b[0;36m5\u001b[0m\u001b[0;34m)\u001b[0m\u001b[0;34m\u001b[0m\u001b[0;34m\u001b[0m\u001b[0m\n\u001b[0m",
            "\u001b[0;31mNameError\u001b[0m: name 'myrange' is not defined"
          ]
        }
      ]
    },
    {
      "cell_type": "code",
      "source": [
        "# for (int i =0; i<10; i++)"
      ],
      "metadata": {
        "id": "QC_vGEnrTnWw"
      },
      "execution_count": 37,
      "outputs": []
    },
    {
      "cell_type": "code",
      "source": [
        "it = iter(a)\n",
        "next(it)"
      ],
      "metadata": {
        "colab": {
          "base_uri": "https://localhost:8080/",
          "height": 35
        },
        "id": "_0AHqLENTpfp",
        "outputId": "1606ff1a-8040-4994-c1e0-035ff53dbb8c"
      },
      "execution_count": 38,
      "outputs": [
        {
          "output_type": "execute_result",
          "data": {
            "text/plain": [
              "'j'"
            ],
            "application/vnd.google.colaboratory.intrinsic+json": {
              "type": "string"
            }
          },
          "metadata": {},
          "execution_count": 38
        }
      ]
    }
  ]
}